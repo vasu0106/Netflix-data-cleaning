{
 "cells": [
  {
   "cell_type": "code",
   "execution_count": 14,
   "id": "b66b98b4-0811-447c-a232-846190aab78f",
   "metadata": {},
   "outputs": [],
   "source": [
    "import pandas as pd\n",
    "import numpy as np"
   ]
  },
  {
   "cell_type": "code",
   "execution_count": 2,
   "id": "8bcd9625-2d76-44c3-b2a6-b431efa7a9b5",
   "metadata": {},
   "outputs": [],
   "source": [
    "df = pd.read_csv('netflix_titles.csv')"
   ]
  },
  {
   "cell_type": "code",
   "execution_count": 3,
   "id": "92612b22-87f1-4eee-80e6-6376980d5d70",
   "metadata": {},
   "outputs": [
    {
     "name": "stdout",
     "output_type": "stream",
     "text": [
      "  show_id     type                  title         director  \\\n",
      "0      s1    Movie   Dick Johnson Is Dead  Kirsten Johnson   \n",
      "1      s2  TV Show          Blood & Water              NaN   \n",
      "2      s3  TV Show              Ganglands  Julien Leclercq   \n",
      "3      s4  TV Show  Jailbirds New Orleans              NaN   \n",
      "4      s5  TV Show           Kota Factory              NaN   \n",
      "\n",
      "                                                cast        country  \\\n",
      "0                                                NaN  United States   \n",
      "1  Ama Qamata, Khosi Ngema, Gail Mabalane, Thaban...   South Africa   \n",
      "2  Sami Bouajila, Tracy Gotoas, Samuel Jouy, Nabi...            NaN   \n",
      "3                                                NaN            NaN   \n",
      "4  Mayur More, Jitendra Kumar, Ranjan Raj, Alam K...          India   \n",
      "\n",
      "           date_added  release_year rating   duration  \\\n",
      "0  September 25, 2021          2020  PG-13     90 min   \n",
      "1  September 24, 2021          2021  TV-MA  2 Seasons   \n",
      "2  September 24, 2021          2021  TV-MA   1 Season   \n",
      "3  September 24, 2021          2021  TV-MA   1 Season   \n",
      "4  September 24, 2021          2021  TV-MA  2 Seasons   \n",
      "\n",
      "                                           listed_in  \\\n",
      "0                                      Documentaries   \n",
      "1    International TV Shows, TV Dramas, TV Mysteries   \n",
      "2  Crime TV Shows, International TV Shows, TV Act...   \n",
      "3                             Docuseries, Reality TV   \n",
      "4  International TV Shows, Romantic TV Shows, TV ...   \n",
      "\n",
      "                                         description  \n",
      "0  As her father nears the end of his life, filmm...  \n",
      "1  After crossing paths at a party, a Cape Town t...  \n",
      "2  To protect his family from a powerful drug lor...  \n",
      "3  Feuds, flirtations and toilet talk go down amo...  \n",
      "4  In a city of coaching centers known to train I...  \n"
     ]
    }
   ],
   "source": [
    "print(df.head())"
   ]
  },
  {
   "cell_type": "code",
   "execution_count": 6,
   "id": "653b4dc5-a57d-47ef-ac50-3dd81670d5e1",
   "metadata": {},
   "outputs": [
    {
     "name": "stdout",
     "output_type": "stream",
     "text": [
      "<class 'pandas.core.frame.DataFrame'>\n",
      "RangeIndex: 8807 entries, 0 to 8806\n",
      "Data columns (total 12 columns):\n",
      " #   Column        Non-Null Count  Dtype \n",
      "---  ------        --------------  ----- \n",
      " 0   show_id       8807 non-null   object\n",
      " 1   type          8807 non-null   object\n",
      " 2   title         8807 non-null   object\n",
      " 3   director      8807 non-null   object\n",
      " 4   cast          7982 non-null   object\n",
      " 5   country       7976 non-null   object\n",
      " 6   date_added    8797 non-null   object\n",
      " 7   release_year  8807 non-null   int64 \n",
      " 8   rating        8803 non-null   object\n",
      " 9   duration      8804 non-null   object\n",
      " 10  listed_in     8807 non-null   object\n",
      " 11  description   8807 non-null   object\n",
      "dtypes: int64(1), object(11)\n",
      "memory usage: 825.8+ KB\n",
      "None\n"
     ]
    }
   ],
   "source": [
    "print(df.info())"
   ]
  },
  {
   "cell_type": "code",
   "execution_count": 32,
   "id": "918af96e-9b7a-4c39-8604-c37331cbced1",
   "metadata": {},
   "outputs": [],
   "source": [
    "df['director']='df.fillna({Director:Unknown}, inplace=True)'"
   ]
  },
  {
   "cell_type": "code",
   "execution_count": 10,
   "id": "ddec27d3-eca0-4f07-93c3-8c49198e2a26",
   "metadata": {},
   "outputs": [
    {
     "name": "stdout",
     "output_type": "stream",
     "text": [
      "<class 'pandas.core.frame.DataFrame'>\n",
      "RangeIndex: 8807 entries, 0 to 8806\n",
      "Data columns (total 12 columns):\n",
      " #   Column        Non-Null Count  Dtype \n",
      "---  ------        --------------  ----- \n",
      " 0   show_id       8807 non-null   object\n",
      " 1   type          8807 non-null   object\n",
      " 2   title         8807 non-null   object\n",
      " 3   director      8807 non-null   object\n",
      " 4   cast          8807 non-null   object\n",
      " 5   country       8807 non-null   object\n",
      " 6   date_added    8797 non-null   object\n",
      " 7   release_year  8807 non-null   int64 \n",
      " 8   rating        8803 non-null   object\n",
      " 9   duration      8804 non-null   object\n",
      " 10  listed_in     8807 non-null   object\n",
      " 11  description   8807 non-null   object\n",
      "dtypes: int64(1), object(11)\n",
      "memory usage: 825.8+ KB\n",
      "None\n"
     ]
    }
   ],
   "source": [
    "print(df.info())"
   ]
  },
  {
   "cell_type": "code",
   "execution_count": 33,
   "id": "fc5430c6-5cc4-4d72-bc9d-db5e8409e960",
   "metadata": {},
   "outputs": [],
   "source": [
    "df['cast']='df.fillna({cast:Unknown}, inplace=True)'"
   ]
  },
  {
   "cell_type": "code",
   "execution_count": 34,
   "id": "4b3b26ab-910e-47fc-af83-7b8c9371d785",
   "metadata": {},
   "outputs": [],
   "source": [
    "df['country']='df.fillna({country:Unknown}, inplace=True)'"
   ]
  },
  {
   "cell_type": "code",
   "execution_count": 36,
   "id": "4df7454b-c353-471e-bdb7-1f51d2b88c9c",
   "metadata": {},
   "outputs": [],
   "source": [
    "df['rating']='df.fillna({rating:Unknown}, inplace=True)'"
   ]
  },
  {
   "cell_type": "code",
   "execution_count": 37,
   "id": "849211a1-8530-4daf-9871-d723a5998faa",
   "metadata": {},
   "outputs": [
    {
     "name": "stdout",
     "output_type": "stream",
     "text": [
      "<class 'pandas.core.frame.DataFrame'>\n",
      "RangeIndex: 8807 entries, 0 to 8806\n",
      "Data columns (total 13 columns):\n",
      " #   Column            Non-Null Count  Dtype         \n",
      "---  ------            --------------  -----         \n",
      " 0   show_id           8807 non-null   object        \n",
      " 1   type              8807 non-null   object        \n",
      " 2   title             8807 non-null   object        \n",
      " 3   director          8807 non-null   object        \n",
      " 4   cast              8807 non-null   object        \n",
      " 5   country           8807 non-null   object        \n",
      " 6   date_added        8807 non-null   datetime64[ns]\n",
      " 7   release_year      8807 non-null   int64         \n",
      " 8   rating            8807 non-null   object        \n",
      " 9   listed_in         8807 non-null   object        \n",
      " 10  description       8807 non-null   object        \n",
      " 11  duration_minutes  8807 non-null   int64         \n",
      " 12  duration_seasons  8807 non-null   int64         \n",
      "dtypes: datetime64[ns](1), int64(3), object(9)\n",
      "memory usage: 894.6+ KB\n",
      "None\n"
     ]
    }
   ],
   "source": [
    "print(df.info())"
   ]
  },
  {
   "cell_type": "code",
   "execution_count": 16,
   "id": "c9fb72c3-2bbb-425f-b866-faeaae7e148a",
   "metadata": {},
   "outputs": [],
   "source": [
    "df['date_added'] = pd.to_datetime(df['date_added'], errors='coerce')"
   ]
  },
  {
   "cell_type": "code",
   "execution_count": 17,
   "id": "8b69dcdd-fb7f-4f99-b5ea-2021001c36f3",
   "metadata": {},
   "outputs": [
    {
     "name": "stdout",
     "output_type": "stream",
     "text": [
      "datetime64[ns]\n"
     ]
    }
   ],
   "source": [
    "print(df['date_added'].dtype)"
   ]
  },
  {
   "cell_type": "code",
   "execution_count": 26,
   "id": "b48ee1df-376d-4ab5-b7df-967bd7da7c7c",
   "metadata": {},
   "outputs": [],
   "source": [
    "# Initialize new columns to prevent the \"SettingWithCopyWarning\" pitfall\n",
    "df['duration_minutes'] = pd.NA\n",
    "df['duration_seasons'] = pd.NA\n",
    "\n",
    "# Correctly extract and assign values for movies using .loc\n",
    "movie_rows = df['type'] == 'Movie'\n",
    "df.loc[movie_rows, 'duration_minutes'] = df.loc[movie_rows, 'duration'].str.extract(r'(\\d+)')\n",
    "\n",
    "# Correctly extract and assign values for TV shows using .loc\n",
    "tv_show_rows = df['type'] == 'TV Show'\n",
    "df.loc[tv_show_rows, 'duration_seasons'] = df.loc[tv_show_rows, 'duration'].str.extract(r'(\\d+)')\n",
    "\n",
    "# Convert to numeric and fill resulting NaNs (where the other type existed) with 0\n",
    "df['duration_minutes'] = pd.to_numeric(df['duration_minutes']).fillna(0).astype(int)\n",
    "df['duration_seasons'] = pd.to_numeric(df['duration_seasons']).fillna(0).astype(int)\n",
    "\n",
    "# Drop the original 'duration' column\n",
    "df.drop('duration', axis=1, inplace=True)"
   ]
  },
  {
   "cell_type": "code",
   "execution_count": 24,
   "id": "a0c0b756-c4e4-4438-af1f-7efae7a511d4",
   "metadata": {},
   "outputs": [],
   "source": [
    "# 1. Convert to datetime, turning any unparsable strings (like 'Unknown') into NaT\n",
    "df['date_added'] = pd.to_datetime(df['date_added'], errors='coerce')\n",
    "\n",
    "# 2. Define the placeholder date\n",
    "placeholder_date = pd.to_datetime('1900-01-01')\n",
    "\n",
    "# 3. Fill the resulting NaT values with the placeholder date using assignment (RECOMMENDED)\n",
    "# By removing 'inplace=True', you explicitly assign the result back to the column, \n",
    "# which is the proper Pandas convention and eliminates the warning.\n",
    "df['date_added'] = df['date_added'].fillna(placeholder_date)\n",
    "\n",
    "# You can now check the info to see the full non-null count and correct dtype\n",
    "# print(df.info())"
   ]
  },
  {
   "cell_type": "code",
   "execution_count": 28,
   "id": "35dbb58a-42d5-4351-824b-c37e260d3c5f",
   "metadata": {},
   "outputs": [
    {
     "name": "stdout",
     "output_type": "stream",
     "text": [
      "Number of duplicate rows before removal: 0\n",
      "Number of duplicate rows after removal: 0\n"
     ]
    }
   ],
   "source": [
    "# Get the number of duplicates before removal\n",
    "print(f\"Number of duplicate rows before removal: {df.duplicated().sum()}\")\n",
    "\n",
    "# Drop duplicate rows\n",
    "df.drop_duplicates(inplace=True)\n",
    "\n",
    "# Verify that duplicates are gone\n",
    "print(f\"Number of duplicate rows after removal: {df.duplicated().sum()}\")"
   ]
  },
  {
   "cell_type": "code",
   "execution_count": 29,
   "id": "74c9585b-db03-471a-b562-a87009c2e6ae",
   "metadata": {},
   "outputs": [
    {
     "name": "stdout",
     "output_type": "stream",
     "text": [
      "<class 'pandas.core.series.Series'>\n",
      "RangeIndex: 8807 entries, 0 to 8806\n",
      "Series name: date_added\n",
      "Non-Null Count  Dtype         \n",
      "--------------  -----         \n",
      "8807 non-null   datetime64[ns]\n",
      "dtypes: datetime64[ns](1)\n",
      "memory usage: 68.9 KB\n",
      "None\n"
     ]
    }
   ],
   "source": [
    "# 1. Convert to datetime, turning any unparsable strings (like 'Unknown') into NaT\n",
    "df['date_added'] = pd.to_datetime(df['date_added'], errors='coerce')\n",
    "\n",
    "# 2. Define the placeholder date\n",
    "placeholder_date = pd.to_datetime('1900-01-01')\n",
    "\n",
    "# 3. Fill the resulting NaT values with the placeholder date using assignment (Correct way)\n",
    "df['date_added'] = df['date_added'].fillna(placeholder_date)\n",
    "\n",
    "# Check the result\n",
    "print(df['date_added'].info())"
   ]
  },
  {
   "cell_type": "code",
   "execution_count": 31,
   "id": "3282bf67-a4df-4e9c-be56-d1cce43e6a91",
   "metadata": {},
   "outputs": [
    {
     "name": "stdout",
     "output_type": "stream",
     "text": [
      "<class 'pandas.core.frame.DataFrame'>\n",
      "RangeIndex: 8807 entries, 0 to 8806\n",
      "Data columns (total 13 columns):\n",
      " #   Column            Non-Null Count  Dtype         \n",
      "---  ------            --------------  -----         \n",
      " 0   show_id           8807 non-null   object        \n",
      " 1   type              8807 non-null   object        \n",
      " 2   title             8807 non-null   object        \n",
      " 3   director          6173 non-null   object        \n",
      " 4   cast              7982 non-null   object        \n",
      " 5   country           7976 non-null   object        \n",
      " 6   date_added        8807 non-null   datetime64[ns]\n",
      " 7   release_year      8807 non-null   int64         \n",
      " 8   rating            8803 non-null   object        \n",
      " 9   listed_in         8807 non-null   object        \n",
      " 10  description       8807 non-null   object        \n",
      " 11  duration_minutes  8807 non-null   int64         \n",
      " 12  duration_seasons  8807 non-null   int64         \n",
      "dtypes: datetime64[ns](1), int64(3), object(9)\n",
      "memory usage: 894.6+ KB\n",
      "None\n"
     ]
    }
   ],
   "source": [
    "# --- 1. CORRECT DATE HANDLING ---\n",
    "df['date_added'] = pd.to_datetime(df['date_added'], errors='coerce')\n",
    "placeholder_date = pd.to_datetime('1900-01-01')\n",
    "df['date_added'] = df['date_added'].fillna(placeholder_date) # FIX: using assignment\n",
    "\n",
    "# --- 2. CORRECT DURATION SPLITTING (Must be run now!) ---\n",
    "# Initialize new columns\n",
    "df['duration_minutes'] = pd.NA\n",
    "df['duration_seasons'] = pd.NA\n",
    "\n",
    "# Correctly extract and assign values for movies\n",
    "movie_rows = df['type'] == 'Movie'\n",
    "df.loc[movie_rows, 'duration_minutes'] = df.loc[movie_rows, 'duration'].str.extract(r'(\\d+)')\n",
    "\n",
    "# Correctly extract and assign values for TV shows\n",
    "tv_show_rows = df['type'] == 'TV Show'\n",
    "df.loc[tv_show_rows, 'duration_seasons'] = df.loc[tv_show_rows, 'duration'].str.extract(r'(\\d+)')\n",
    "\n",
    "# Convert to numeric, fill NaNs with 0, and convert to integer type\n",
    "df['duration_minutes'] = pd.to_numeric(df['duration_minutes']).fillna(0).astype(int)\n",
    "df['duration_seasons'] = pd.to_numeric(df['duration_seasons']).fillna(0).astype(int)\n",
    "\n",
    "# --- 3. DROP ORIGINAL DURATION COLUMN ---\n",
    "# This is safe to run now, AFTER the extraction above\n",
    "df.drop('duration', axis=1, inplace=True)\n",
    "\n",
    "# Final check\n",
    "print(df.info())"
   ]
  },
  {
   "cell_type": "code",
   "execution_count": 38,
   "id": "81b0f3f8-ea84-4ec3-bdc0-00e77ff1d285",
   "metadata": {},
   "outputs": [],
   "source": [
    "df.to_csv('netflix_titles_FINAL_CLEANED.csv', index=False)"
   ]
  },
  {
   "cell_type": "code",
   "execution_count": null,
   "id": "c6cba089-97a5-455b-b0c5-e0ac1825b888",
   "metadata": {},
   "outputs": [],
   "source": []
  }
 ],
 "metadata": {
  "kernelspec": {
   "display_name": "Python 3 (ipykernel)",
   "language": "python",
   "name": "python3"
  },
  "language_info": {
   "codemirror_mode": {
    "name": "ipython",
    "version": 3
   },
   "file_extension": ".py",
   "mimetype": "text/x-python",
   "name": "python",
   "nbconvert_exporter": "python",
   "pygments_lexer": "ipython3",
   "version": "3.12.3"
  }
 },
 "nbformat": 4,
 "nbformat_minor": 5
}
